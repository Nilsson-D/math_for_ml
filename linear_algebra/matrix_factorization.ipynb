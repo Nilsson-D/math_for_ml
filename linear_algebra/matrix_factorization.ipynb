{
 "cells": [
  {
   "cell_type": "markdown",
   "metadata": {},
   "source": [
    "TO DO\n",
    "\n",
    "Explore LU decomposition, QR decomposition, and Cholesky decomposition.\n",
    "Practical: Solve systems of linear equations using these factorizations."
   ]
  }
 ],
 "metadata": {
  "language_info": {
   "name": "python"
  }
 },
 "nbformat": 4,
 "nbformat_minor": 2
}
