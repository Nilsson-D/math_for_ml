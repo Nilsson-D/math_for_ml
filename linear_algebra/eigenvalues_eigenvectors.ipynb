{
 "cells": [
  {
   "cell_type": "markdown",
   "metadata": {},
   "source": [
    "TO DO\n",
    "\n",
    "Use SVD to compress image data by reducing its rank.\n",
    "Visualize how lower-rank approximations affect image quality."
   ]
  }
 ],
 "metadata": {
  "language_info": {
   "name": "python"
  }
 },
 "nbformat": 4,
 "nbformat_minor": 2
}
